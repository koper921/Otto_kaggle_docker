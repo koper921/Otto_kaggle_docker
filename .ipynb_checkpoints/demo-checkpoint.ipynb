{
 "cells": [
  {
   "cell_type": "code",
   "execution_count": 45,
   "metadata": {},
   "outputs": [],
   "source": [
    "import pandas as pd\n",
    "import numpy as np\n",
    "import matplotlib.pyplot as plt\n",
    "from sklearn.base import BaseEstimator\n",
    "from sklearn.ensemble import RandomForestClassifier, BaggingClassifier\n",
    "from sklearn.linear_model import LogisticRegression\n",
    "from sklearn.metrics import log_loss\n",
    "import numpy\n",
    "from pandas import read_csv\n",
    "from sklearn.decomposition import PCA\n",
    "from sklearn.model_selection import train_test_split\n",
    "from sklearn.preprocessing import StandardScaler\n",
    "from imblearn.over_sampling import SMOTE  # doctest: +NORMALIZE_WHITESPACE\n",
    "from imblearn.pipeline import Pipeline\n",
    "from sklearn.model_selection import train_test_split\n",
    "from xgboost import XGBRegressor, XGBClassifier\n",
    "\n",
    "# https://arxiv.org/ftp/arxiv/papers/1403/1403.1949.pdf\n",
    "\n",
    "\n",
    "\n",
    "class XGBoostWithEarlyStop(BaseEstimator):\n",
    "    def __init__(self, early_stopping_rounds=5, test_size=0.2,\n",
    "                 eval_metric='mae', **estimator_params):\n",
    "        self.early_stopping_rounds = early_stopping_rounds\n",
    "        self.test_size = test_size\n",
    "        self.eval_metric = eval_metric = 'mlogloss'\n",
    "        self.scaler = StandardScaler()\n",
    "        self.sm = SMOTE(random_state=42)\n",
    "        if self.estimator is not None:\n",
    "            self.set_params(**estimator_params)\n",
    "\n",
    "    def set_params(self, **params):\n",
    "        return self.estimator.set_params(**params)\n",
    "\n",
    "    def get_params(self, **params):\n",
    "        return self.estimator.get_params()\n",
    "\n",
    "    def fit(self, X, y):\n",
    "        # fit scaling on all train\n",
    "        self.scaler.fit(X)\n",
    "        x_train, x_val, y_train, y_val = train_test_split(X, y, test_size=self.test_size)\n",
    "        # smote resampling on the train dataset (not on validation set)\n",
    "        x_train, y_train = self.sm.fit_resample(x_train, y_train)\n",
    "        # scale echantillon\n",
    "        x_train = self.scaler.transform(x_train)\n",
    "        x_val = self.scaler.transform(x_val)\n",
    "\n",
    "        # early stopping\n",
    "        self.estimator.fit(x_train, y_train,\n",
    "                           early_stopping_rounds=self.early_stopping_rounds,\n",
    "                           eval_metric=self.eval_metric, eval_set=[(x_val, y_val)])\n",
    "        return self\n",
    "\n",
    "    def predict(self, X):\n",
    "\n",
    "        return self.estimator.predict(self.scaler.transform(X))\n",
    "    def predict_proba(self, X):\n",
    "\n",
    "        return self.estimator.predict_proba(self.scaler.transform(X))\n",
    "\n",
    "class XGBoostClassifierWithEarlyStop(XGBoostWithEarlyStop):\n",
    "    def __init__(self, *args, **kwargs):\n",
    "        self.estimator = XGBClassifier(learning_rate=0.01)\n",
    "        super(XGBoostClassifierWithEarlyStop, self).__init__(*args, **kwargs)\n",
    "\n",
    "\n"
   ]
  },
  {
   "cell_type": "code",
   "execution_count": 37,
   "metadata": {},
   "outputs": [
    {
     "name": "stdout",
     "output_type": "stream",
     "text": [
      "Training set has 61878 rows and 94 columns\n"
     ]
    }
   ],
   "source": [
    "df_train = pd.read_csv(r\"C:\\Users\\MyPC\\Documents\\AIC-partage\\TC1\\Projet kaggle\\train.csv\", index_col=0)\n",
    "print(\"Training set has {0[0]} rows and {0[1]} columns\".format(df_train.shape))\n",
    "\n",
    "\n",
    "X = df_train.drop('target', 1).values\n",
    "y = df_train['target'].values\n",
    "\n",
    "x_train, x_test, y_train, y_test = train_test_split(X, y, test_size=0.2)"
   ]
  },
  {
   "cell_type": "markdown",
   "metadata": {},
   "source": [
    "#  Baseline : PCA  + Scaler + Logistique regression "
   ]
  },
  {
   "cell_type": "code",
   "execution_count": 18,
   "metadata": {},
   "outputs": [
    {
     "name": "stderr",
     "output_type": "stream",
     "text": [
      "D:\\Programation\\anaconda\\lib\\site-packages\\sklearn\\linear_model\\_logistic.py:940: ConvergenceWarning: lbfgs failed to converge (status=1):\n",
      "STOP: TOTAL NO. of ITERATIONS REACHED LIMIT.\n",
      "\n",
      "Increase the number of iterations (max_iter) or scale the data as shown in:\n",
      "    https://scikit-learn.org/stable/modules/preprocessing.html\n",
      "Please also refer to the documentation for alternative solver options:\n",
      "    https://scikit-learn.org/stable/modules/linear_model.html#logistic-regression\n",
      "  extra_warning_msg=_LOGISTIC_SOLVER_CONVERGENCE_MSG)\n"
     ]
    },
    {
     "data": {
      "text/plain": [
       "Pipeline(memory=None,\n",
       "         steps=[('pca',\n",
       "                 PCA(copy=True, iterated_power='auto', n_components=70,\n",
       "                     random_state=None, svd_solver='auto', tol=0.0,\n",
       "                     whiten=False)),\n",
       "                ('sc',\n",
       "                 StandardScaler(copy=True, with_mean=True, with_std=True)),\n",
       "                ('lr',\n",
       "                 LogisticRegression(C=1.0, class_weight=None, dual=False,\n",
       "                                    fit_intercept=True, intercept_scaling=1,\n",
       "                                    l1_ratio=None, max_iter=100,\n",
       "                                    multi_class='auto', n_jobs=None,\n",
       "                                    penalty='l2', random_state=0,\n",
       "                                    solver='lbfgs', tol=0.0001, verbose=0,\n",
       "                                    warm_start=False))],\n",
       "         verbose=False)"
      ]
     },
     "execution_count": 18,
     "metadata": {},
     "output_type": "execute_result"
    }
   ],
   "source": [
    "from sklearn.linear_model import LogisticRegression\n",
    "log_reg = LogisticRegression(random_state=0)\n",
    "pca = PCA(n_components=70)\n",
    "sc  = StandardScaler()\n",
    "pipeline = Pipeline([('pca', pca), ('sc', sc), ('lr', (log_reg))])\n",
    "pipeline.fit(x_train, y_train) # doctest: +ELLIPSIS\n",
    "\n"
   ]
  },
  {
   "cell_type": "code",
   "execution_count": 29,
   "metadata": {},
   "outputs": [
    {
     "name": "stdout",
     "output_type": "stream",
     "text": [
      "precision :  0.7505085797852311\n",
      "log loss :  0.6626003422602835\n"
     ]
    }
   ],
   "source": [
    "from sklearn.metrics import precision_score\n",
    "from sklearn.metrics import log_loss\n",
    "\n",
    "y_pred = pipeline.predict(x_test )\n",
    "y_pred_proba = pipeline.predict_proba(x_test )\n",
    "\n",
    "print(\"precision : \" ,precision_score(y_test, y_pred, average='macro'))\n",
    "print(\"log loss : \", log_loss(y_test, y_pred_proba))\n"
   ]
  },
  {
   "cell_type": "code",
   "execution_count": 36,
   "metadata": {
    "scrolled": true
   },
   "outputs": [
    {
     "data": {
      "image/png": "[encoded data removed]",
      "text/plain": [
       "<Figure size 720x720 with 2 Axes>"
      ]
     },
     "metadata": {
      "needs_background": "light"
     },
     "output_type": "display_data"
    }
   ],
   "source": [
    "import seaborn as sn\n",
    "import matplotlib.pyplot as plt\n",
    "from sklearn.metrics import confusion_matrix\n",
    "\n",
    "\n",
    "array = confusion_matrix(y_test, y_pred)\n",
    "array = array.astype('float') / array.sum(axis=1)[:, np.newaxis]\n",
    "\n",
    "\n",
    "df_cm = pd.DataFrame(array, index = list(range(1,10)) , columns = list(range(1,10)))\n",
    "plt.figure(figsize = (10,10))\n",
    "sn.heatmap(df_cm, annot=True)\n",
    "plt.show()"
   ]
  },
  {
   "cell_type": "markdown",
   "metadata": {},
   "source": [
    "#  Modele retenu : Pipeline with pca + smote + standard scaler + early stopping + xgboost\n"
   ]
  },
  {
   "cell_type": "code",
   "execution_count": null,
   "metadata": {},
   "outputs": [
    {
     "name": "stdout",
     "output_type": "stream",
     "text": [
      "[0]\tvalidation_0-mlogloss:2.18136\n",
      "Will train until validation_0-mlogloss hasn't improved in 5 rounds.\n",
      "[1]\tvalidation_0-mlogloss:2.16602\n",
      "[2]\tvalidation_0-mlogloss:2.1511\n",
      "[3]\tvalidation_0-mlogloss:2.13668\n",
      "[4]\tvalidation_0-mlogloss:2.12266\n"
     ]
    }
   ],
   "source": [
    "pca = PCA(n_components=70)\n",
    "pipeline = Pipeline([('pca', pca), ('xgb', XGBoostClassifierWithEarlyStop())])\n",
    "pipeline.fit(x_train, y_train) # doctest: +ELLIPSIS"
   ]
  },
  {
   "cell_type": "code",
   "execution_count": null,
   "metadata": {},
   "outputs": [],
   "source": [
    "y_pred = pipeline.predict(x_test )\n",
    "y_pred_proba = pipeline.predict_proba(x_test )\n",
    "\n",
    "print(\"precision : \" ,precision_score(y_test, y_pred, average='macro'))\n",
    "print(\"log loss : \", log_loss(y_test, y_pred_proba))\n"
   ]
  },
  {
   "cell_type": "code",
   "execution_count": null,
   "metadata": {},
   "outputs": [],
   "source": [
    "array = confusion_matrix(y_test, y_pred)\n",
    "array = array.astype('float') / array.sum(axis=1)[:, np.newaxis]\n",
    "\n",
    "\n",
    "df_cm = pd.DataFrame(array, index = list(range(1,10)) , columns = list(range(1,10)))\n",
    "plt.figure(figsize = (10,10))\n",
    "sn.heatmap(df_cm, annot=True)\n",
    "plt.show()"
   ]
  },
  {
   "cell_type": "code",
   "execution_count": null,
   "metadata": {},
   "outputs": [],
   "source": []
  }
 ],
 "metadata": {
  "kernelspec": {
   "display_name": "Python 3",
   "language": "python",
   "name": "python3"
  },
  "language_info": {
   "codemirror_mode": {
    "name": "ipython",
    "version": 3
   },
   "file_extension": ".py",
   "mimetype": "text/x-python",
   "name": "python",
   "nbconvert_exporter": "python",
   "pygments_lexer": "ipython3",
   "version": "3.7.4"
  }
 },
 "nbformat": 4,
 "nbformat_minor": 2
}
